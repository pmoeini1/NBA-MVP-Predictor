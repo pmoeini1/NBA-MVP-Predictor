{
 "cells": [
  {
   "cell_type": "code",
   "execution_count": 273,
   "metadata": {},
   "outputs": [],
   "source": [
    "import pandas as pd\n",
    "import numpy as np\n",
    "import matplotlib.pyplot as plt\n",
    "import tensorflow as tf\n",
    "from tensorflow.keras.models import Sequential\n",
    "from tensorflow.keras.layers import Conv2D, MaxPooling2D, Flatten, Dense, Input, Dropout, MaxPooling1D, Conv1D, LSTM, SimpleRNN\n",
    "from tensorflow.keras.callbacks import EarlyStopping"
   ]
  },
  {
   "cell_type": "code",
   "execution_count": 274,
   "metadata": {},
   "outputs": [],
   "source": [
    "# acquire MVP vote shares and box score statistics\n",
    "mvpData = pd.read_csv(\"../NBA Stats/Player Award Shares.csv\")\n",
    "boxScore = pd.read_csv(\"../NBA Stats/Player Per Game.csv\")"
   ]
  },
  {
   "cell_type": "code",
   "execution_count": 275,
   "metadata": {},
   "outputs": [],
   "source": [
    "mvpData = mvpData[mvpData['award'] == 'nba mvp']\n",
    "# 1980 season marks the beginning of 3-pt era and tracking of 3-pt shooting statistics\n",
    "mvpData = mvpData[mvpData['season'] >= 1980]\n",
    "mvpData = mvpData.merge(boxScore, on='seas_id', how='inner')"
   ]
  },
  {
   "cell_type": "code",
   "execution_count": 276,
   "metadata": {},
   "outputs": [],
   "source": [
    "# create X and Y training data\n",
    "Y = mvpData['share'].apply(lambda x: x*1000).to_numpy()\n",
    "X = np.c_[mvpData['age_x'], mvpData['experience'], mvpData['mp_per_game'],\n",
    "       mvpData['fg_per_game'], mvpData['fga_per_game'], mvpData['x3p_per_game'],\n",
    "       mvpData['x3pa_per_game'], mvpData['x2p_per_game'], mvpData['x2pa_per_game'], \n",
    "       mvpData['ft_per_game'], mvpData['fta_per_game'],  mvpData['orb_per_game'],\n",
    "       mvpData['drb_per_game'], mvpData['ast_per_game'], mvpData['stl_per_game'],\n",
    "       mvpData['blk_per_game'], mvpData['tov_per_game'], mvpData['pf_per_game']]"
   ]
  },
  {
   "cell_type": "code",
   "execution_count": 277,
   "metadata": {},
   "outputs": [
    {
     "name": "stdout",
     "output_type": "stream",
     "text": [
      "Epoch 1/100\n",
      "23/23 - 1s - 38ms/step - loss: 153.3691\n",
      "Epoch 2/100\n",
      "23/23 - 0s - 3ms/step - loss: 150.8639\n",
      "Epoch 3/100\n",
      "23/23 - 0s - 2ms/step - loss: 149.3803\n",
      "Epoch 4/100\n",
      "23/23 - 0s - 3ms/step - loss: 148.2355\n",
      "Epoch 5/100\n",
      "23/23 - 0s - 2ms/step - loss: 147.2029\n",
      "Epoch 6/100\n",
      "23/23 - 0s - 3ms/step - loss: 145.9141\n",
      "Epoch 7/100\n",
      "23/23 - 0s - 3ms/step - loss: 144.8446\n",
      "Epoch 8/100\n",
      "23/23 - 0s - 3ms/step - loss: 143.8331\n",
      "Epoch 9/100\n",
      "23/23 - 0s - 3ms/step - loss: 142.8185\n",
      "Epoch 10/100\n",
      "23/23 - 0s - 2ms/step - loss: 141.4739\n",
      "Epoch 11/100\n",
      "23/23 - 0s - 3ms/step - loss: 140.0250\n",
      "Epoch 12/100\n",
      "23/23 - 0s - 3ms/step - loss: 139.3293\n",
      "Epoch 13/100\n",
      "23/23 - 0s - 2ms/step - loss: 137.9524\n",
      "Epoch 14/100\n",
      "23/23 - 0s - 3ms/step - loss: 136.9784\n",
      "Epoch 15/100\n",
      "23/23 - 0s - 3ms/step - loss: 135.8507\n",
      "Epoch 16/100\n",
      "23/23 - 0s - 3ms/step - loss: 135.1249\n",
      "Epoch 17/100\n",
      "23/23 - 0s - 3ms/step - loss: 134.2863\n",
      "Epoch 18/100\n",
      "23/23 - 0s - 3ms/step - loss: 133.3067\n",
      "Epoch 19/100\n",
      "23/23 - 0s - 3ms/step - loss: 132.2908\n",
      "Epoch 20/100\n",
      "23/23 - 0s - 3ms/step - loss: 131.6331\n",
      "Epoch 21/100\n",
      "23/23 - 0s - 3ms/step - loss: 130.8020\n",
      "Epoch 22/100\n",
      "23/23 - 0s - 3ms/step - loss: 130.6362\n",
      "Epoch 23/100\n",
      "23/23 - 0s - 2ms/step - loss: 129.9784\n",
      "Epoch 24/100\n",
      "23/23 - 0s - 3ms/step - loss: 128.7674\n",
      "Epoch 25/100\n",
      "23/23 - 0s - 3ms/step - loss: 128.5827\n",
      "Epoch 26/100\n",
      "23/23 - 0s - 3ms/step - loss: 127.7454\n",
      "Epoch 27/100\n",
      "23/23 - 0s - 2ms/step - loss: 127.6355\n",
      "Epoch 28/100\n",
      "23/23 - 0s - 3ms/step - loss: 127.1363\n",
      "Epoch 29/100\n",
      "23/23 - 0s - 3ms/step - loss: 126.6589\n",
      "Epoch 30/100\n",
      "23/23 - 0s - 4ms/step - loss: 126.3089\n",
      "Epoch 31/100\n",
      "23/23 - 0s - 2ms/step - loss: 126.6198\n",
      "Epoch 32/100\n",
      "23/23 - 0s - 3ms/step - loss: 126.4562\n",
      "Epoch 33/100\n",
      "23/23 - 0s - 2ms/step - loss: 126.6604\n"
     ]
    },
    {
     "data": {
      "text/plain": [
       "<keras.src.callbacks.history.History at 0x13da517e990>"
      ]
     },
     "execution_count": 277,
     "metadata": {},
     "output_type": "execute_result"
    }
   ],
   "source": [
    "# train NN to predict share of MVP votes\n",
    "from keras.models import Sequential\n",
    "from keras.layers import Dense\n",
    "from keras.layers import Input\n",
    "\n",
    "np.random.seed(21)\n",
    "tf.random.set_seed(21)\n",
    "\n",
    "early_stopping_callback = EarlyStopping(monitor='loss', patience=3)\n",
    "\n",
    "model = Sequential()\n",
    "model.add(Input(shape=(18,)))\n",
    "model.add(Dense(100))\n",
    "model.add(Dense(50))\n",
    "model.add(Dense(1, activation=\"relu\"))\n",
    "model.compile(optimizer=\"adam\", loss=\"mean_absolute_error\")\n",
    "model.fit(X, Y, epochs=100, batch_size=32, verbose=2, callbacks=[early_stopping_callback])"
   ]
  },
  {
   "cell_type": "code",
   "execution_count": 278,
   "metadata": {},
   "outputs": [],
   "source": [
    "#go through top 10 of each season and select highest predicted mvp share for each year\n",
    "MVPs = []\n",
    "for year in range(1980, 2025):\n",
    "        players = mvpData[mvpData['season_x'] == year]\n",
    "        maxVal = 0\n",
    "        mvp = players['player_x'].iloc[0]\n",
    "        for index, row in players.iterrows():\n",
    "            temp = model.predict(np.c_[row['age_x'], row['experience'], row['mp_per_game'],\n",
    "                row['fg_per_game'], row['fga_per_game'], row['x3p_per_game'],\n",
    "                row['x3pa_per_game'], row['x2p_per_game'], row['x2pa_per_game'], \n",
    "                row['ft_per_game'], row['fta_per_game'],  row['orb_per_game'],\n",
    "                row['drb_per_game'], row['ast_per_game'], row['stl_per_game'],\n",
    "                row['blk_per_game'], row['tov_per_game'], row['pf_per_game']], verbose=0)\n",
    "            if temp > maxVal:\n",
    "                maxVal = temp\n",
    "                mvp = row['player_x']\n",
    "        tempStr = str(year) + \": \" + mvp\n",
    "        MVPs.append(tempStr)\n"
   ]
  },
  {
   "cell_type": "code",
   "execution_count": 279,
   "metadata": {},
   "outputs": [
    {
     "name": "stdout",
     "output_type": "stream",
     "text": [
      "Predicted MVPs\n",
      "1980: Kareem Abdul-Jabbar\n",
      "1981: Moses Malone\n",
      "1982: Moses Malone\n",
      "1983: Moses Malone\n",
      "1984: Magic Johnson\n",
      "1985: Larry Bird\n",
      "1986: Magic Johnson\n",
      "1987: Michael Jordan\n",
      "1988: Michael Jordan\n",
      "1989: Michael Jordan\n",
      "1990: Hakeem Olajuwon\n",
      "1991: David Robinson\n",
      "1992: David Robinson\n",
      "1993: Hakeem Olajuwon\n",
      "1994: David Robinson\n",
      "1995: Shaquille O'Neal\n",
      "1996: David Robinson\n",
      "1997: Shaquille O'Neal\n",
      "1998: Shaquille O'Neal\n",
      "1999: Shaquille O'Neal\n",
      "2000: Shaquille O'Neal\n",
      "2001: Shaquille O'Neal\n",
      "2002: Shaquille O'Neal\n",
      "2003: Tracy McGrady\n",
      "2004: Kevin Garnett\n",
      "2005: Kevin Garnett\n",
      "2006: LeBron James\n",
      "2007: Dwyane Wade\n",
      "2008: LeBron James\n",
      "2009: LeBron James\n",
      "2010: LeBron James\n",
      "2011: Dwight Howard\n",
      "2012: LeBron James\n",
      "2013: LeBron James\n",
      "2014: Kevin Durant\n",
      "2015: Russell Westbrook\n",
      "2016: Russell Westbrook\n",
      "2017: Russell Westbrook\n",
      "2018: James Harden\n",
      "2019: Giannis Antetokounmpo\n",
      "2020: Giannis Antetokounmpo\n",
      "2021: Giannis Antetokounmpo\n",
      "2022: Giannis Antetokounmpo\n",
      "2023: Giannis Antetokounmpo\n",
      "2024: Luka Dončić\n"
     ]
    }
   ],
   "source": [
    "# print which player had the highest predicted MVP share for each year\n",
    "print(\"Predicted MVPs\")\n",
    "for mvp in MVPs:\n",
    "    print(mvp)\n"
   ]
  },
  {
   "cell_type": "markdown",
   "metadata": {},
   "source": [
    "The model chose a different MVP in the following years:  \n",
    "2024 (Model-chosen: Luka Dončić, Voter-chosen: Nikola Jokic)  \n",
    "2023 (Model-chosen: Giannis Antetokounmpo, Voter-chosen: Joel Embiid)  \n",
    "2021, 2022 (Model-chosen: Giannis Antetokounmpo, Voter-chosen: Nikola Jokic)  \n",
    "2015, 2016 (Model-chosen: Russell Westbrook, Voter-chosen: Stephen Curry)  \n",
    "2011 (Model-chosen: Dwight Howard, Voter-chosen: Derrick Rose)  \n",
    "2008 (Model-chosen: LeBron James, Voter-chosen: Kobe Bryant)  \n",
    "2007 (Model-chosen: Dwyane Wade, Voter-chosen: Dirk Nowitzki)  \n",
    "2006 (Model-chosen: LeBron James, Voter-chosen: Steve Nash)  \n",
    "2005 (Model-chosen: Kevin Garnett, Voter-chosen: Steve Nash)  \n",
    "2003 (Model-chosen: Tracy McGrady, Voter-chosen: Tim Duncan)  \n",
    "2002 (Model-chosen: Shaquille O'Neal, Voter-chosen: Tim Duncan)  \n",
    "2001 (Model-chosen: Shaquille O'Neal, Voter-chosen: Allen Iverson)  \n",
    "1997, 1999 (Model-chosen: Shaquille O'Neal, Voter-chosen: Karl Malone)  \n",
    "1998 (Model-chosen: Shaquille O'Neal, Voter-chosen: Michael Jordan)  \n",
    "1996 (Model-chosen: David Robinson, Voter-chosen: Michael Jordan)  \n",
    "1995 (Model-chosen: Shaquille O'Neal, Voter-chosen: David Robinson)  \n",
    "1994 (Model-chosen: David Robinson, Voter-chosen: Hakeem Olajuwon)  \n",
    "1993 (Model-chosen: Hakeem Olajuwon, Voter-chosen: Charles Barkley)  \n",
    "1991, 1992 (Model-chosen: David Robinson, Voter-chosen: Michael Jordan)  \n",
    "1990 (Model-chosen: Hakeem Olajuwon, Voter-chosen: Magic Johnson)  \n",
    "1987, 1989 (Model-chosen: Michael Jordan, Voter-chosen: Magic Johnson)  \n",
    "1984, 1986 (Model-chosen: Magic Johnson, Voter-chosen: Larry Bird)  \n",
    "1981 (Model-chosen: Moses Malone, Voter-chosen: Julius Erving)  "
   ]
  }
 ],
 "metadata": {
  "kernelspec": {
   "display_name": "Python 3",
   "language": "python",
   "name": "python3"
  },
  "language_info": {
   "codemirror_mode": {
    "name": "ipython",
    "version": 3
   },
   "file_extension": ".py",
   "mimetype": "text/x-python",
   "name": "python",
   "nbconvert_exporter": "python",
   "pygments_lexer": "ipython3",
   "version": "3.12.4"
  }
 },
 "nbformat": 4,
 "nbformat_minor": 2
}
